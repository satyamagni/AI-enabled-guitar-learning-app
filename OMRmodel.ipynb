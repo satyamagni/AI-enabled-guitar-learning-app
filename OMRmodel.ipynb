{
  "nbformat": 4,
  "nbformat_minor": 0,
  "metadata": {
    "colab": {
      "name": "OMRmodel.ipynb",
      "provenance": [],
      "mount_file_id": "1lNeb1kWSJLdUo0PPx2CrtmJqzhjVRWuu",
      "authorship_tag": "ABX9TyMe3yapiN4cY2g1Buh1UMwU",
      "include_colab_link": true
    },
    "kernelspec": {
      "display_name": "Python 3",
      "name": "python3"
    },
    "language_info": {
      "name": "python"
    }
  },
  "cells": [
    {
      "cell_type": "markdown",
      "metadata": {
        "id": "view-in-github",
        "colab_type": "text"
      },
      "source": [
        "<a href=\"https://colab.research.google.com/github/satyamagni/AI-enabled-guitar-learning-app/blob/dev/OMRmodel.ipynb\" target=\"_parent\"><img src=\"https://colab.research.google.com/assets/colab-badge.svg\" alt=\"Open In Colab\"/></a>"
      ]
    },
    {
      "cell_type": "markdown",
      "metadata": {
        "id": "AXCS8uZspfgO"
      },
      "source": [
        "#Imports and mounting google drive"
      ]
    },
    {
      "cell_type": "code",
      "metadata": {
        "colab": {
          "base_uri": "https://localhost:8080/"
        },
        "id": "-vxYgCh22zKM",
        "outputId": "17da9010-3051-42b5-c2b7-e1583d377db3"
      },
      "source": [
        "import numpy as np\n",
        "import pandas as pd\n",
        "import tensorflow as tf\n",
        "from PIL import Image\n",
        "import cv2\n",
        "\n",
        "from google.colab import drive\n",
        "from google.colab.patches import cv2_imshow\n",
        "\n",
        "drive.mount('/content/drive')\n",
        "!mkdir data"
      ],
      "execution_count": 1,
      "outputs": [
        {
          "output_type": "stream",
          "name": "stdout",
          "text": [
            "Drive already mounted at /content/drive; to attempt to forcibly remount, call drive.mount(\"/content/drive\", force_remount=True).\n"
          ]
        }
      ]
    },
    {
      "cell_type": "markdown",
      "metadata": {
        "id": "LDrMsqBupthn"
      },
      "source": [
        "#Unzipping the data and saving in a separate folder called 'data'"
      ]
    },
    {
      "cell_type": "code",
      "metadata": {
        "id": "aTJQ1LiOzY6A"
      },
      "source": [
        "!tar -xvf \"drive/MyDrive/PrIMuS/primus.tar\" -C \"data/\"   "
      ],
      "execution_count": null,
      "outputs": []
    },
    {
      "cell_type": "markdown",
      "metadata": {
        "id": "Z1hUxdS8oX7y"
      },
      "source": [
        "#Exploring one data instance, each data instance contains 5 files\n",
        "\n",
        "* Semantic representation of music symbols\n",
        "* Agnostic representation of music symbols\n",
        "* PNG image file \n",
        "* Musical symbolic representation in MEI (Music Encoding Initiative) format\n",
        "* Plaine and Easie file encoding (traditional music encoding)\n",
        "* midi file which is the playable audio format "
      ]
    },
    {
      "cell_type": "code",
      "metadata": {
        "id": "sNkS3qvPrFBa",
        "colab": {
          "base_uri": "https://localhost:8080/",
          "height": 1000
        },
        "outputId": "b4534a43-7ed4-4841-d987-49efbdfd050a"
      },
      "source": [
        "with open('data/package_aa/000051650-1_1_1/000051650-1_1_1.semantic') as f:\n",
        "  list = f.read().split('\\t')\n",
        "  print('1. printing semantic encoding')\n",
        "  for i in range(len(list)):\n",
        "    print(list[i])\n",
        "\n",
        "with open('data/package_aa/000051650-1_1_1/000051650-1_1_1.agnostic') as f:\n",
        "  list = f.read().split('\\t')\n",
        "  print('2. printing agnostic encoding')\n",
        "  for i in range(len(list)):\n",
        "    print(list[i])\n",
        "\n",
        "# Read RGB image\n",
        "print('\\n3. Music image')\n",
        "img = cv2.imread('data/package_aa/000051650-1_1_1/000051650-1_1_1.png') \n",
        "cv2_imshow(img)\n",
        "\n",
        "with open('data/package_aa/000051650-1_1_1/000051650-1_1_1.mei') as f:\n",
        "  list = f.read().split('\\t')\n",
        "  print('4. printing MEI encoding')\n",
        "  for i in range(len(list)):\n",
        "    print(list[i])\n",
        "\n",
        "with open('data/package_aa/000051650-1_1_1/regular_pae.pae') as f:\n",
        "  list = f.read().split('\\t')\n",
        "  print(\"5. printing 'Plaine and Easie' encoding\")\n",
        "  for i in range(len(list)):\n",
        "    print(list[i])"
      ],
      "execution_count": 3,
      "outputs": [
        {
          "output_type": "stream",
          "name": "stdout",
          "text": [
            "1. printing semantic encoding\n",
            "clef-G2\n",
            "keySignature-EbM\n",
            "timeSignature-3/4\n",
            "note-Bb5_quarter\n",
            "note-Eb5_eighth\n",
            "note-Bb5_eighth\n",
            "note-C6_eighth\n",
            "note-Bb5_eighth\n",
            "barline\n",
            "note-Ab5_eighth\n",
            "note-Ab5_eighth\n",
            "rest-sixteenth\n",
            "note-Ab5_sixteenth\n",
            "note-G5_sixteenth\n",
            "note-Ab5_sixteenth\n",
            "note-Bb5_sixteenth\n",
            "note-Ab5_sixteenth\n",
            "note-G5_sixteenth\n",
            "note-Ab5_sixteenth\n",
            "barline\n",
            "\n",
            "2. printing agnostic encoding\n",
            "clef.G-L2\n",
            "accidental.flat-L3\n",
            "accidental.flat-S4\n",
            "accidental.flat-S2\n",
            "digit.3-L4\n",
            "digit.4-L2\n",
            "note.quarter-S6\n",
            "note.beamedRight1-S4\n",
            "note.beamedBoth1-S6\n",
            "note.beamedBoth1-L7\n",
            "note.beamedLeft1-S6\n",
            "barline-L1\n",
            "note.beamedRight1-L6\n",
            "note.beamedLeft1-L6\n",
            "rest.sixteenth-L3\n",
            "note.beamedRight2-L6\n",
            "note.beamedBoth2-S5\n",
            "note.beamedLeft2-L6\n",
            "note.beamedRight2-S6\n",
            "note.beamedBoth2-L6\n",
            "note.beamedBoth2-S5\n",
            "note.beamedLeft2-L6\n",
            "barline-L1\n",
            "\n",
            "\n",
            "3. Music image\n"
          ]
        },
        {
          "output_type": "display_data",
          "data": {
            "image/png": "[encoded data removed]",
            "text/plain": [
              "<PIL.Image.Image image mode=RGB size=833x149 at 0x7F1CE81090D0>"
            ]
          },
          "metadata": {}
        },
        {
          "output_type": "stream",
          "name": "stdout",
          "text": [
            "4. printing MEI encoding\n",
            "<?xml version=\"1.0\" encoding=\"UTF-8\"?>\n",
            "<?xml-model href=\"http://music-encoding.org/schema/4.0.0/mei-all.rng\" type=\"application/xml\" schematypens=\"http://relaxng.org/ns/structure/1.0\"?>\n",
            "<?xml-model href=\"http://music-encoding.org/schema/4.0.0/mei-all.rng\" type=\"application/xml\" schematypens=\"http://purl.oclc.org/dsdl/schematron\"?>\n",
            "<mei xmlns=\"http://www.music-encoding.org/ns/mei\" meiversion=\"4.0.0\">\n",
            "    <meiHead>\n",
            "        <fileDesc>\n",
            "            <titleStmt>\n",
            "                <title />\n",
            "            </titleStmt>\n",
            "            <pubStmt>\n",
            "                <date>2017-08-29 23:53:16</date>\n",
            "            </pubStmt>\n",
            "        </fileDesc>\n",
            "        <encodingDesc>\n",
            "            <projectDesc>\n",
            "                <p>Encoded with Verovio version 2.0.0-dev-cba6710</p>\n",
            "            </projectDesc>\n",
            "        </encodingDesc>\n",
            "    </meiHead>\n",
            "    <music>\n",
            "        <body>\n",
            "            <mdiv>\n",
            "                <score>\n",
            "                    <scoreDef xml:id=\"scoredef-0000000430709135\" key.sig=\"3f\" meter.count=\"3\" meter.unit=\"4\">\n",
            "                        <staffGrp xml:id=\"staffgrp-0000000165452311\">\n",
            "                            <staffDef xml:id=\"staffdef-0000001913151759\" clef.shape=\"G\" clef.line=\"2\" n=\"1\" lines=\"5\" />\n",
            "                        </staffGrp>\n",
            "                    </scoreDef>\n",
            "                    <section xml:id=\"section-0000001597031233\">\n",
            "                        <measure xml:id=\"measure-0000002113926132\" right=\"single\">\n",
            "                            <staff xml:id=\"staff-0000002053312825\" n=\"1\">\n",
            "                                <layer xml:id=\"layer-0000001442447155\" n=\"1\">\n",
            "                                    <note xml:id=\"note-0000000266443102\" dur=\"4\" oct=\"5\" pname=\"b\" />\n",
            "                                    <beam xml:id=\"beam-0000000650868006\">\n",
            "                                        <note xml:id=\"note-0000000605811319\" dur=\"8\" oct=\"5\" pname=\"e\" />\n",
            "                                        <note xml:id=\"note-0000002004362671\" dur=\"8\" oct=\"5\" pname=\"b\" />\n",
            "                                        <note xml:id=\"note-0000001894924655\" dur=\"8\" oct=\"6\" pname=\"c\" />\n",
            "                                        <note xml:id=\"note-0000000816191575\" dur=\"8\" oct=\"5\" pname=\"b\" />\n",
            "                                    </beam>\n",
            "                                </layer>\n",
            "                            </staff>\n",
            "                        </measure>\n",
            "                        <measure xml:id=\"measure-0000001023463177\" right=\"single\">\n",
            "                            <staff xml:id=\"staff-0000001753747636\" n=\"1\">\n",
            "                                <layer xml:id=\"layer-0000001379157892\" n=\"1\">\n",
            "                                    <beam xml:id=\"beam-0000001318279542\">\n",
            "                                        <note xml:id=\"note-0000001715688773\" dur=\"8\" oct=\"5\" pname=\"a\" />\n",
            "                                        <note xml:id=\"note-0000000735476295\" dur=\"8\" oct=\"5\" pname=\"a\" />\n",
            "                                    </beam>\n",
            "                                    <rest xml:id=\"rest-0000000234217933\" dur=\"16\" />\n",
            "                                    <beam xml:id=\"beam-0000001825971641\">\n",
            "                                        <note xml:id=\"note-0000000163274980\" dur=\"16\" oct=\"5\" pname=\"a\" />\n",
            "                                        <note xml:id=\"note-0000001564054657\" dur=\"16\" oct=\"5\" pname=\"g\" />\n",
            "                                        <note xml:id=\"note-0000001866780919\" dur=\"16\" oct=\"5\" pname=\"a\" />\n",
            "                                    </beam>\n",
            "                                    <beam xml:id=\"beam-0000000071140080\">\n",
            "                                        <note xml:id=\"note-0000000250822963\" dur=\"16\" oct=\"5\" pname=\"b\" />\n",
            "                                        <note xml:id=\"note-0000001650416828\" dur=\"16\" oct=\"5\" pname=\"a\" />\n",
            "                                        <note xml:id=\"note-0000001656843544\" dur=\"16\" oct=\"5\" pname=\"g\" />\n",
            "                                        <note xml:id=\"note-0000000148993359\" dur=\"16\" oct=\"5\" pname=\"a\" />\n",
            "                                    </beam>\n",
            "                                </layer>\n",
            "                            </staff>\n",
            "                        </measure>\n",
            "                    </section>\n",
            "                </score>\n",
            "            </mdiv>\n",
            "        </body>\n",
            "    </music>\n",
            "</mei>\n",
            "\n",
            "5. printing 'Plaine and Easie' encoding\n",
            "%G-2@3/4$bBEAü ''4B8{EB'''C''B}/{AA}6-{AGA}{BAGA}/\n",
            "\n"
          ]
        }
      ]
    },
    {
      "cell_type": "markdown",
      "metadata": {
        "id": "gyvCjfpgkJ0z"
      },
      "source": [
        "#Defining a model framework"
      ]
    },
    {
      "cell_type": "code",
      "metadata": {
        "id": "MOz6RQkwkOMW"
      },
      "source": [
        "from tensorflow import keras\n",
        "from tensorflow.keras import Input, layers, Model\n",
        "from tensorflow.keras.layers import Reshape, Dense, Conv2D, LSTM,GlobalMaxPool2D, MaxPool2D, Normalization, Dropout, Flatten"
      ],
      "execution_count": 5,
      "outputs": []
    },
    {
      "cell_type": "code",
      "metadata": {
        "colab": {
          "base_uri": "https://localhost:8080/"
        },
        "id": "OWE-PW0y5hZu",
        "outputId": "5a68138f-a4c4-434d-9640-5465b0de10ba"
      },
      "source": [
        "#not the final model code, final model code will look much better \n",
        "\n",
        "input_shape = (32,100,500,3)\n",
        "inputlayer = Input(shape=(10,10,3, ))\n",
        "convlayer1 = Conv2D(100,3,activation='relu')\n",
        "maxpoollayer1 = MaxPool2D(pool_size=(2,2),padding='valid')\n",
        "normlayer1 = Normalization()\n",
        "dropout1 = Dropout(0.2)\n",
        "convlayer2 = Conv2D(50,5,activation='relu')\n",
        "maxpoollayer2 = MaxPool2D(pool_size=(45,1),padding='valid')\n",
        "normlayer2 = Normalization()\n",
        "dropout2 = Dropout(0.2)\n",
        "\n",
        "lstmlayer1 = LSTM(100,return_sequences=True)\n",
        "lstmlayer2 = LSTM(50)\n",
        "\n",
        "test_input = tf.random.normal(input_shape)\n",
        "y1 = convlayer1(test_input)\n",
        "print(y1.shape)\n",
        "y2 = maxpoollayer1(y1)\n",
        "print(y2.shape)\n",
        "y3 = normlayer1(y2)\n",
        "y4 = dropout1(y3)\n",
        "y5 = convlayer2(y4)\n",
        "y6 = maxpoollayer2(y5)\n",
        "print(y6.shape)\n",
        "y7 = normlayer2(y6)\n",
        "y8 = dropout1(y7)\n",
        "\n",
        "#y9 = GlobalMaxPool2D()(y8)\n",
        "print(y8.shape)\n",
        "yy = Reshape((245,50))(y8)\n",
        "#print(yy.shape)\n",
        "\n",
        "y10 = lstmlayer1(yy)\n",
        "print(\"y10shape= \",y10.shape)\n",
        "y11 = lstmlayer2(y10)\n",
        "print(y11.shape)\n",
        "\n"
      ],
      "execution_count": 18,
      "outputs": [
        {
          "output_type": "stream",
          "name": "stdout",
          "text": [
            "(32, 98, 498, 100)\n",
            "(32, 49, 249, 100)\n",
            "(32, 1, 245, 50)\n",
            "(32, 1, 245, 50)\n",
            "y10shape=  (32, 245, 100)\n",
            "(32, 50)\n"
          ]
        }
      ]
    },
    {
      "cell_type": "code",
      "metadata": {
        "colab": {
          "base_uri": "https://localhost:8080/"
        },
        "id": "8F1YLYQ1TQZZ",
        "outputId": "7345be9a-e450-498c-8fe5-230487c583ae"
      },
      "source": [
        "#writing the model class\n",
        "\n",
        "class CRNNmodel(tf.keras.Model):\n",
        "  \"\"\"defining my model class for custom states and methods\"\"\"\n",
        "\n",
        "  def __init__(self):\n",
        "    super().__init__()\n",
        "    self.cnn1 = Conv2D(100,3,activation='relu')\n",
        "    self.maxpool1 = MaxPool2D(pool_size=(2,2),padding='valid')\n",
        "    self.norm = Normalization()\n",
        "    self.dropout = Dropout(0.2)\n",
        "    self.conv2 = Conv2D(50,5,activation='relu')\n",
        "    self.maxpool2 = MaxPool2D(pool_size=(45,1),padding='valid')\n",
        "    self.lstm1 = LSTM(100,return_sequences=True)\n",
        "    self.lstm2 = LSTM(50)\n",
        "    self.reshape1 = Reshape((245,50))\n",
        "\n",
        "  def call(self, inputs, training = False):\n",
        "    x = self.cnn1(inputs)\n",
        "    x = self.maxpool1(x)\n",
        "    x = self.norm(x)\n",
        "    if training:\n",
        "      x = self.dropout1(x)\n",
        "    x = self.conv2(x)\n",
        "    x = self.maxpool2(x)\n",
        "    \n",
        "    if training:\n",
        "      x = self.dropout(x)\n",
        "    x = self.reshape1(x)  \n",
        "    x = self.lstm1(x)\n",
        "    return self.lstm2(x)\n",
        "\n",
        "model = CRNNmodel()\n",
        "model(tf.random.normal((32,100,500,3)))\n",
        "print(model.summary())\n",
        "\n",
        "\n"
      ],
      "execution_count": 30,
      "outputs": [
        {
          "output_type": "stream",
          "name": "stdout",
          "text": [
            "Model: \"crn_nmodel_9\"\n",
            "_________________________________________________________________\n",
            "Layer (type)                 Output Shape              Param #   \n",
            "=================================================================\n",
            "conv2d_44 (Conv2D)           multiple                  2800      \n",
            "_________________________________________________________________\n",
            "max_pooling2d_44 (MaxPooling multiple                  0         \n",
            "_________________________________________________________________\n",
            "normalization_35 (Normalizat multiple                  201       \n",
            "_________________________________________________________________\n",
            "dropout_35 (Dropout)         multiple                  0 (unused)\n",
            "_________________________________________________________________\n",
            "conv2d_45 (Conv2D)           multiple                  125050    \n",
            "_________________________________________________________________\n",
            "max_pooling2d_45 (MaxPooling multiple                  0         \n",
            "_________________________________________________________________\n",
            "lstm_44 (LSTM)               multiple                  60400     \n",
            "_________________________________________________________________\n",
            "lstm_45 (LSTM)               multiple                  30200     \n",
            "_________________________________________________________________\n",
            "reshape_12 (Reshape)         multiple                  0         \n",
            "=================================================================\n",
            "Total params: 218,651\n",
            "Trainable params: 218,450\n",
            "Non-trainable params: 201\n",
            "_________________________________________________________________\n",
            "None\n"
          ]
        }
      ]
    },
    {
      "cell_type": "code",
      "metadata": {
        "id": "y1q-GGYZPoVX"
      },
      "source": [
        ""
      ],
      "execution_count": null,
      "outputs": []
    }
  ]
}